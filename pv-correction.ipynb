{
 "cells": [
  {
   "cell_type": "markdown",
   "metadata": {},
   "source": [
    "# Peculiar Velocity Correction\n",
    "\n",
    "By me"
   ]
  },
  {
   "cell_type": "markdown",
   "metadata": {},
   "source": [
    "## Libraries"
   ]
  },
  {
   "cell_type": "code",
   "execution_count": 1,
   "metadata": {},
   "outputs": [],
   "source": [
    "import csv\n",
    "import pickle\n",
    "import numpy as np\n",
    "from astropy import units as u\n",
    "from astropy.coordinates import SkyCoord\n",
    "from cosmocalcgabu import *\n",
    "import healpy as hp\n",
    "from gabupy import *\n",
    "import time\n",
    "import matplotlib.pyplot as plt"
   ]
  },
  {
   "cell_type": "markdown",
   "metadata": {},
   "source": [
    "## Constants"
   ]
  },
  {
   "cell_type": "code",
   "execution_count": 2,
   "metadata": {},
   "outputs": [],
   "source": [
    "H_0 = 67.66\n",
    "Omega_L = 0.6889\n",
    "Omega_m = 0.3111\n",
    "c = 299792.458 # km/s \n",
    "b_apex = 48.253*u.degree\n",
    "l_apex = 264.021*u.degree\n",
    "v_apex = 369.82 # km/s\n",
    "nside = 32"
   ]
  },
  {
   "cell_type": "markdown",
   "metadata": {},
   "source": [
    "## GLADE v2.3\n",
    "\n",
    "### Read, Save, and Load\n",
    "\n",
    "#### GLADE class\n",
    "\n",
    "Read GLADE v2.3 file using a GLADE class (in gabupy) to store it"
   ]
  },
  {
   "cell_type": "code",
   "execution_count": null,
   "metadata": {},
   "outputs": [],
   "source": [
    "glade = []\n",
    "\n",
    "with open('/media/gabriel/Data/University/ELTE/Thesis/GLADE/GLADE_2.3.txt', newline='') as csvfile:\n",
    "    reader = csv.reader(csvfile, delimiter=' ', quotechar='|')\n",
    "    for row in reader:\n",
    "        g = GLADE2(null2none(row[0], 's'), null2none(row[1], 's'), null2none(row[2], 's'),\n",
    "                   null2none(row[3], 's'), null2none(row[4], 's'), null2none(row[5], 's'),\n",
    "                   null2none(row[6], 'f'), null2none(row[7], 'f'), null2none(row[8], 'f'),\n",
    "                   null2none(row[9], 'f'), null2none(row[10], 'f'), null2none(row[11], 'f'), \n",
    "                   null2none(row[12], 'f'), null2none(row[13], 'f'), null2none(row[14], 'f'), \n",
    "                   null2none(row[15], 'f'), null2none(row[16], 'f'), null2none(row[17], 'f'), \n",
    "                   null2none(row[18], 'f'), null2none(row[19], 'f'), null2none(row[20], 'i'), \n",
    "                   null2none(row[21], 'i'))\n",
    "        glade.append(g)\n",
    "        \n",
    "glade = np.array(glade)"
   ]
  },
  {
   "cell_type": "markdown",
   "metadata": {},
   "source": [
    "Save GLADE using pickle and the GLADE class"
   ]
  },
  {
   "cell_type": "code",
   "execution_count": null,
   "metadata": {},
   "outputs": [],
   "source": [
    "with open('/media/gabriel/Data/University/ELTE/Thesis/GLADE/glade_2.3.pickle', 'wb') as f:\n",
    "    pickle.dump(glade, f)"
   ]
  },
  {
   "cell_type": "markdown",
   "metadata": {},
   "source": [
    "Load GLADE using pickle and the GLADE class"
   ]
  },
  {
   "cell_type": "code",
   "execution_count": null,
   "metadata": {},
   "outputs": [],
   "source": [
    "with open('/media/gabriel/Data/University/ELTE/Thesis/GLADE/glade_2.3_sample.pickle', 'rb') as f:\n",
    "    glade = pickle.load(f)   "
   ]
  },
  {
   "cell_type": "markdown",
   "metadata": {},
   "source": [
    "#### Numpy\n",
    "\n",
    "Read GLADE v2.3 file using a numpy array to store it, but everything is a string."
   ]
  },
  {
   "cell_type": "code",
   "execution_count": null,
   "metadata": {},
   "outputs": [],
   "source": [
    "glade = []\n",
    "\n",
    "with open('/media/gabriel/Data/University/ELTE/Thesis/GLADE/GLADE_2.3.txt', newline='') as csvfile:\n",
    "    reader = csv.reader(csvfile, delimiter=' ', quotechar='|')\n",
    "    for row in reader:\n",
    "        glade.append([row[0], row[1], row[2], row[3], row[4], row[5], row[6], row[7], row[8],\n",
    "                      row[9], row[10], row[11], row[12], row[13], row[14], row[15], row[16], \n",
    "                      row[17], row[18], row[19], row[20], row[21]])\n",
    "        \n",
    "glade = np.array(glade)"
   ]
  },
  {
   "cell_type": "markdown",
   "metadata": {},
   "source": [
    "Save numpy file"
   ]
  },
  {
   "cell_type": "code",
   "execution_count": null,
   "metadata": {},
   "outputs": [],
   "source": [
    "np.save('/media/gabriel/Data/University/ELTE/Thesis/GLADE/glade_2.3', glade, allow_pickle=True)"
   ]
  },
  {
   "cell_type": "markdown",
   "metadata": {},
   "source": [
    "Load numpy file"
   ]
  },
  {
   "cell_type": "code",
   "execution_count": 3,
   "metadata": {},
   "outputs": [],
   "source": [
    "glade = np.load('/media/gabriel/Data/University/ELTE/Thesis/GLADE/glade_2.3_sample.npy', allow_pickle=True)"
   ]
  },
  {
   "cell_type": "markdown",
   "metadata": {},
   "source": [
    "## GLADE v3.0\n",
    "\n",
    "### Read, Save, and Load\n",
    "\n",
    "#### GLADE class\n",
    "Read GLADE v3.0 file using the GLADE class (in gabupy)"
   ]
  },
  {
   "cell_type": "code",
   "execution_count": null,
   "metadata": {},
   "outputs": [],
   "source": [
    "glade = []\n",
    "\n",
    "with open('/media/gabriel/Data/University/ELTE/Thesis/GLADE/GLADE_3.0_sample.txt', newline='') as csvfile:\n",
    "    reader = csv.reader(csvfile, delimiter=' ', quotechar='|')\n",
    "    for row in reader:\n",
    "        g = GLADE3(null2none(row[0], 's'), null2none(row[1], 's'), null2none(row[2], 's'), \n",
    "                   null2none(row[3], 's'), null2none(row[4], 's'), null2none(row[5], 's'), \n",
    "                   null2none(row[6], 'f'), null2none(row[7], 'f'), null2none(row[8], 'f'),\n",
    "                   null2none(row[9], 'f'), null2none(row[10], 'f'), null2none(row[11], 'f'), \n",
    "                   null2none(row[12], 'f'), null2none(row[13], 'f'), null2none(row[14], 'f'), \n",
    "                   null2none(row[15], 'f'), null2none(row[16], 'f'), null2none(row[17], 'f'),\n",
    "                   null2none(row[18], 'f'), null2none(row[19], 'f'), null2none(row[20], 'i'),\n",
    "                   null2none(row[21], 'i'), null2none(row[22], 's'), null2none(row[23], 's'),\n",
    "                   null2none(row[24], 'f'), null2none(row[25], 'f'), null2none(row[26], 'f'),\n",
    "                   null2none(row[27], 'f'))\n",
    "        glade.append(g)\n",
    "        \n",
    "glade = np.array(glade)"
   ]
  },
  {
   "cell_type": "markdown",
   "metadata": {},
   "source": [
    "Save GLADE using pickle and the GLADE class"
   ]
  },
  {
   "cell_type": "code",
   "execution_count": null,
   "metadata": {},
   "outputs": [],
   "source": [
    "with open('/media/gabriel/Data/University/ELTE/Thesis/GLADE/glade_3.0.pickle', 'wb') as f:\n",
    "    pickle.dump(glade, f)"
   ]
  },
  {
   "cell_type": "markdown",
   "metadata": {},
   "source": [
    "Load GLADE file using pickle and the GLADE class"
   ]
  },
  {
   "cell_type": "code",
   "execution_count": null,
   "metadata": {},
   "outputs": [],
   "source": [
    "with open('/media/gabriel/Data/University/ELTE/Thesis/GLADE/glade_3.0_sample.pickle', 'rb') as f:\n",
    "    glade = pickle.load(f)  "
   ]
  },
  {
   "cell_type": "markdown",
   "metadata": {},
   "source": [
    "#### Numpy\n",
    "\n",
    "Read GLADE v3.0 file using a numpy array to store it, but everything is a string."
   ]
  },
  {
   "cell_type": "code",
   "execution_count": null,
   "metadata": {},
   "outputs": [],
   "source": [
    "glade = []\n",
    "\n",
    "with open('/media/gabriel/Data/University/ELTE/Thesis/GLADE/GLADE_3.0_sample.txt', newline='') as csvfile:\n",
    "    reader = csv.reader(csvfile, delimiter=' ', quotechar='|')\n",
    "    for row in reader:\n",
    "        glade.append([row[0], row[1], row[2], row[3], row[4], row[5], row[6], row[7], \n",
    "                      row[8], row[9], row[10], row[11], row[12], row[13], row[14], row[15], \n",
    "                      row[16], row[17], row[18], row[19], row[20], row[21], row[22], row[23],\n",
    "                      row[24], row[25], row[26], row[27]])\n",
    "        \n",
    "glade = np.array(glade)"
   ]
  },
  {
   "cell_type": "code",
   "execution_count": 3,
   "metadata": {},
   "outputs": [],
   "source": [
    "glade = []\n",
    "\n",
    "with open('/media/gabriel/Data/University/ELTE/Thesis/GLADE/GLADE_3.0_sample.txt', newline='') as csvfile:\n",
    "    reader = csv.reader(csvfile, delimiter=' ', quotechar='|')\n",
    "    for row in reader:\n",
    "        glade.append([row[0], row[1], row[2], row[3], row[4], row[6],\n",
    "                      row[7], row[10], row[22], row[23]])\n",
    "        \n",
    "glade = np.array(glade)"
   ]
  },
  {
   "cell_type": "markdown",
   "metadata": {},
   "source": [
    "Save numpy file"
   ]
  },
  {
   "cell_type": "code",
   "execution_count": 4,
   "metadata": {},
   "outputs": [],
   "source": [
    "np.save('/media/gabriel/Data/University/ELTE/Thesis/GLADE/glade_3.0_sample_r', glade, allow_pickle=True)"
   ]
  },
  {
   "cell_type": "markdown",
   "metadata": {},
   "source": [
    "Load numpy file"
   ]
  },
  {
   "cell_type": "code",
   "execution_count": null,
   "metadata": {},
   "outputs": [],
   "source": [
    "glade = np.load('/media/gabriel/Data/University/ELTE/Thesis/GLADE/glade_3.0_sample.npy', allow_pickle=True)"
   ]
  },
  {
   "cell_type": "markdown",
   "metadata": {},
   "source": [
    "## PV Catalog\n",
    "\n",
    "### Load and Matching\n",
    "\n",
    "Load PV catalog"
   ]
  },
  {
   "cell_type": "code",
   "execution_count": 4,
   "metadata": {},
   "outputs": [],
   "source": [
    "with open('/media/gabriel/Data/University/ELTE/Thesis/Peculiar_Velocity_Catalogs/PVcatalog_v0.2.pickle', 'rb') as f:\n",
    "    pv_catalog = pickle.load(f)"
   ]
  },
  {
   "cell_type": "markdown",
   "metadata": {},
   "source": [
    "Save all the names for matching"
   ]
  },
  {
   "cell_type": "code",
   "execution_count": 10,
   "metadata": {},
   "outputs": [],
   "source": [
    "names = []\n",
    "for g in pv_catalog:\n",
    "    names.append(g.name)"
   ]
  },
  {
   "cell_type": "markdown",
   "metadata": {},
   "source": [
    "## Model Map\n",
    "\n",
    "### Load\n",
    "\n",
    "Load model map"
   ]
  },
  {
   "cell_type": "code",
   "execution_count": 6,
   "metadata": {},
   "outputs": [],
   "source": [
    "v_model_map = np.load('/media/gabriel/Data/University/ELTE/Thesis/Code/maps/vFinal.npy', allow_pickle=True)\n",
    "e_model_map = np.load('/media/gabriel/Data/University/ELTE/Thesis/Code/maps/eFinal.npy', allow_pickle=True)"
   ]
  },
  {
   "cell_type": "markdown",
   "metadata": {},
   "source": [
    "## Correction"
   ]
  },
  {
   "cell_type": "code",
   "execution_count": 11,
   "metadata": {
    "scrolled": true
   },
   "outputs": [
    {
     "name": "stdout",
     "output_type": "stream",
     "text": [
      "144.5852665901184\n"
     ]
    }
   ],
   "source": [
    "np.random.seed(42)\n",
    "start_time = time.time()\n",
    "for g in glade:\n",
    "#for ii in range(2210669, 3262883):\n",
    "    #g = glade[ii]\n",
    "    if (g[0] in names) or (g[3] in names): # g[0] = PGC, g[3] = 2MASS ID\n",
    "        try:\n",
    "            index_pv = names.index(g[0])\n",
    "            del names[index_pv]\n",
    "            \n",
    "        except:\n",
    "            index_pv = names.index(g[3])\n",
    "            del names[index_pv]\n",
    "        \n",
    "        pv = pv_catalog[index_pv].vMLE\n",
    "        e_pv = pv_catalog[index_pv].eMLE\n",
    "        g_z = float(g[10])\n",
    "        g_RA = float(g[6])\n",
    "        g_dec = float(g[7])\n",
    "        \n",
    "        v_helio = g_z*c\n",
    "    \n",
    "        coord = SkyCoord(ra=g_RA*u.degree, dec=g_dec*u.degree, distance=42.42) # Distance is irrelevant here\n",
    "\n",
    "        b = coord.galactic.b*u.degree/u.degree\n",
    "        l = coord.galactic.l*u.degree/u.degree\n",
    "        \n",
    "        pv_sample = np.random.normal(pv, e_pv, 1000)\n",
    "\n",
    "        v_cmb_sample = v_helio + v_apex*(np.sin(b)*np.sin(b_apex) + np.cos(b)*np.cos(b_apex)*np.cos(l-l_apex)) - pv_sample\n",
    "        index_negative = np.where(v_cmb_sample < 0.0)\n",
    "        v_cmb_sample = np.delete(v_cmb_sample, index_negative)\n",
    "        \n",
    "        if v_cmb_sample.size > 500:\n",
    "            flag = 1 # It is in the PV Catalog\n",
    "            new_z_sample = v_cmb_sample/c\n",
    "            new_z = np.mean(new_z_sample)\n",
    "            e_new_z = np.std(new_z_sample)\n",
    "            lum_dis_sample = cosmocalc_DL_Mpc(new_z_sample, H0=H_0, WM=Omega_m, WV=Omega_L)\n",
    "            lum_dis = np.mean(lum_dis_sample)\n",
    "            e_lum_dis = np.std(lum_dis_sample)\n",
    "            \n",
    "        else:\n",
    "            flag = 4 # Negative redshift \n",
    "            new_z = 'null'\n",
    "            e_new_z = 'null'\n",
    "            lum_dis = 'null'\n",
    "            e_lum_dis = 'null'\n",
    "        \n",
    "        result = [g[0], g[1], g[2], g[3], g[4], g[10], new_z, e_new_z, lum_dis, e_lum_dis, flag]\n",
    "    \n",
    "    elif g[10] == 'null':\n",
    "        flag = 5 # No redshift value\n",
    "        new_z = 'null'\n",
    "        e_new_z = 'null'\n",
    "        lum_dis = 'null'\n",
    "        e_lum_diz = 'null'\n",
    "        result = [g[0], g[1], g[2], g[3], g[4], g[10], new_z, e_new_z, lum_dis, e_lum_dis, flag] \n",
    "    \n",
    "    elif float(g[10]) < 0.104752038: # 500 Mpc using Planck Values and no correction\n",
    "        g_z = float(g[10])\n",
    "        g_RA = float(g[6])\n",
    "        g_dec = float(g[7])\n",
    "        \n",
    "        v_helio = g_z*c\n",
    "        \n",
    "        coord = SkyCoord(ra=g_RA*u.degree, dec=g_dec*u.degree, distance=42.42) # Distance is irrelevant here\n",
    "\n",
    "        b = coord.galactic.b*u.degree/u.degree\n",
    "        l = coord.galactic.l*u.degree/u.degree\n",
    "\n",
    "        v_cmb_pv = v_helio + v_apex*(np.sin(b)*np.sin(b_apex) + np.cos(b)*np.cos(b_apex)*np.cos(l-l_apex))\n",
    "        \n",
    "        if v_cmb_pv > 0.0:\n",
    "            new_z_pv = v_cmb_pv/c\n",
    "            lum_dis_pv = cosmocalc_DL_Mpc(new_z_pv, H0=H_0, WM=Omega_m, WV=Omega_L)[0]\n",
    "            \n",
    "            p = hp.pixelfunc.ang2pix(nside, np.deg2rad(g_dec + 90.0), np.deg2rad(g_RA))\n",
    "            old_dist = lum_dis_pv\n",
    "            delta = 42.42\n",
    "            delta_list = []\n",
    "            count = 0\n",
    "            d = int(np.floor(lum_dis_pv))\n",
    "            pv = v_model_map[d][p]\n",
    "            e_pv = e_model_map[d][p]\n",
    "            \n",
    "            if pv == None:\n",
    "                flag = 3 # CMB Frame correction\n",
    "                e_new_z_pv = 'null'\n",
    "                e_lum_dis_pv = 'null'\n",
    "                result = [g[0], g[1], g[2], g[3], g[4], g[10], new_z_pv, e_new_z_pv, lum_dis_pv, e_lum_dis_pv, flag]\n",
    "                \n",
    "            else:\n",
    "                while count < 100 and pv != None and delta > 0.1 and d < 500:\n",
    "                    # pv != None again here in case it falls into one while trying to converge\n",
    "                    pv_sample = np.random.normal(pv, e_pv, 1000)\n",
    "                    v_cmb_sample = v_cmb_pv - pv_sample\n",
    "                    index_negative = np.where(v_cmb_sample < 0.0)\n",
    "                    v_cmb_sample = np.delete(v_cmb_sample, index_negative)\n",
    "                    \n",
    "                    if v_cmb_sample.size > 500:\n",
    "                        new_z_sample = v_cmb_sample/c\n",
    "                        new_z = np.mean(new_z_sample)\n",
    "                        e_new_z = np.std(new_z_sample)\n",
    "                        lum_dis_sample = cosmocalc_DL_Mpc(new_z_sample, H0=H_0, WM=Omega_m, WV=Omega_L)\n",
    "                        lum_dis = np.mean(lum_dis_sample)\n",
    "                        e_lum_dis = np.std(lum_dis_sample)\n",
    "                        \n",
    "                        new_dist = lum_dis\n",
    "\n",
    "                        delta = np.absolute(new_dist - old_dist)\n",
    "                        old_dist = new_dist\n",
    "\n",
    "                        if delta in delta_list:\n",
    "                            break # breaks loops in the conversion\n",
    "                        delta_list.append(delta)\n",
    "\n",
    "                        count += 1\n",
    "                        d = int(np.floor(new_dist))\n",
    "                        \n",
    "                        if d > 499:\n",
    "                            break # breaks if it doesn't converge inside\n",
    "                            \n",
    "                        pv = v_model_map[d][p]\n",
    "                        e_pv = e_model_map[d][p]\n",
    "                        flag = 2 # It is in the PV map\n",
    "                        \n",
    "                        \n",
    "                        result = [g[0], g[1], g[2], g[3], g[4], g[10], new_z, e_new_z, lum_dis, e_lum_dis, flag]\n",
    "                        \n",
    "                    else:\n",
    "                        flag = 3 # CMB Frame correction\n",
    "                        e_new_z_pv = 'null'\n",
    "                        e_lum_dis_pv = 'null'\n",
    "                        result = [g[0], g[1], g[2], g[3], g[4], g[10], new_z_pv, e_new_z_pv,\n",
    "                                  lum_dis_pv, e_lum_dis_pv, flag]\n",
    "                        break # breaks the conversion\n",
    "                    \n",
    "\n",
    "        else:\n",
    "            flag = 4 # Negative redshift\n",
    "            new_z_pv = 'null' \n",
    "            e_new_z_pv = 'null'\n",
    "            lum_dis_pv = 'null'\n",
    "            e_lum_dis_pv = 'null'\n",
    "            result = [g[0], g[1], g[2], g[3], g[4], g[10], new_z_pv, e_new_z_pv, lum_dis_pv, e_lum_dis_pv, flag]\n",
    "                \n",
    "    else:\n",
    "        g_z = float(g[10])\n",
    "        g_RA = float(g[6])\n",
    "        g_dec = float(g[7])\n",
    "        \n",
    "        v_helio = g_z*c\n",
    "        \n",
    "        coord = SkyCoord(ra=g_RA*u.degree, dec=g_dec*u.degree, distance=42.42) # Distance is irrelevant here\n",
    "\n",
    "        b = coord.galactic.b*u.degree/u.degree\n",
    "        l = coord.galactic.l*u.degree/u.degree\n",
    "\n",
    "        v_cmb_pv = v_helio + v_apex*(np.sin(b)*np.sin(b_apex) + np.cos(b)*np.cos(b_apex)*np.cos(l-l_apex))\n",
    "        \n",
    "        if v_cmb_pv > 0.0:\n",
    "            flag = 3 # CMB Frame correction\n",
    "            new_z_pv = v_cmb_pv/c\n",
    "            e_new_z_pv = 'null'\n",
    "            lum_dis_pv = cosmocalc_DL_Mpc(new_z_pv, H0=H_0, WM=Omega_m, WV=Omega_L)[0]\n",
    "            e_lum_dis_pv = 'null'\n",
    "            \n",
    "        else:\n",
    "            flag = 4 # Negative redshift\n",
    "            new_z_pv = 'null'\n",
    "            e_new_z_pv = 'null'\n",
    "            lum_dis_pv = 'null'\n",
    "            e_lum_dis_pv = 'null'\n",
    "            \n",
    "        result = [g[0], g[1], g[2], g[3], g[4], g[10], new_z_pv, e_new_z_pv, lum_dis_pv, e_lum_dis_pv, flag]\n",
    "        \n",
    "    with open('/media/gabriel/Data/University/ELTE/Thesis/GLADE/Calculated_Distances_old.txt', 'a', newline='') as csvfile:\n",
    "        writer = csv.writer(csvfile, delimiter='\\t', quotechar='|', quoting=csv.QUOTE_MINIMAL)\n",
    "        \n",
    "        writer.writerow(result)\n",
    "\n",
    "elapsed_time = time.time() - start_time\n",
    "print(elapsed_time)"
   ]
  },
  {
   "cell_type": "markdown",
   "metadata": {},
   "source": [
    "# testing improvements"
   ]
  },
  {
   "cell_type": "code",
   "execution_count": 18,
   "metadata": {},
   "outputs": [],
   "source": [
    "names = []\n",
    "for g in pv_catalog:\n",
    "    names.append(g.name)"
   ]
  },
  {
   "cell_type": "code",
   "execution_count": 19,
   "metadata": {},
   "outputs": [
    {
     "name": "stdout",
     "output_type": "stream",
     "text": [
      "33.3007550239563\n"
     ]
    }
   ],
   "source": [
    "start_time = time.time()\n",
    "for g in glade:\n",
    "#for ii in range(2210669, 3262883):\n",
    "    #g = glade[ii]\n",
    "    if g[10] == 'null':\n",
    "        flag = 5\n",
    "        new_z = 'null'\n",
    "        e_new_z = 'null'\n",
    "        lum_dis = 'null'\n",
    "        e_lum_diz = 'null'\n",
    "        \n",
    "    else:\n",
    "        g_z = float(g[10])\n",
    "        v_helio = g_z*c\n",
    "        \n",
    "        g_RA = float(g[6])\n",
    "        g_dec = float(g[7])\n",
    "        coord = SkyCoord(ra=g_RA*u.degree, dec=g_dec*u.degree, distance=42.42) # Distance is irrelevant here\n",
    "        b = coord.galactic.b*u.degree/u.degree\n",
    "        l = coord.galactic.l*u.degree/u.degree\n",
    "        \n",
    "        if (g[0] in names) or (g[3] in names): # g[0] = PGC, g[3] = 2MASS ID\n",
    "            try:\n",
    "                index_pv = names.index(g[0])\n",
    "                del names[index_pv]\n",
    "\n",
    "            except:\n",
    "                index_pv = names.index(g[3])\n",
    "                del names[index_pv]\n",
    "                \n",
    "            pv = pv_catalog[index_pv].vMLE\n",
    "            e_pv = pv_catalog[index_pv].eMLE\n",
    "            \n",
    "            pv_sample = np.random.normal(pv, e_pv, 1000)\n",
    "\n",
    "            v_hubble_sample = v_helio + v_apex*(np.sin(b)*np.sin(b_apex)\n",
    "                                                + np.cos(b)*np.cos(b_apex)*np.cos(l-l_apex)) - pv_sample\n",
    "                \n",
    "            negative_values = np.where(v_hubble_sample < 0.0)\n",
    "            v_hubble_sample = np.delete(v_hubble_sample, negative_values)\n",
    "        \n",
    "            if v_hubble_sample.size > 500:\n",
    "                flag = 1 # It is in the PV Catalog\n",
    "                new_z_sample = v_hubble_sample/c\n",
    "                new_z = np.mean(new_z_sample)\n",
    "                e_new_z = np.std(new_z_sample)\n",
    "                lum_dis_sample = cosmocalc_DL_Mpc(new_z_sample, H0=H_0, WM=Omega_m, WV=Omega_L)\n",
    "                lum_dis = np.mean(lum_dis_sample)\n",
    "                e_lum_dis = np.std(lum_dis_sample)\n",
    "            \n",
    "            else:\n",
    "                flag = 4 # Negative redshift \n",
    "                new_z = 'null'\n",
    "                e_new_z = 'null'\n",
    "                lum_dis = 'null'\n",
    "                e_lum_dis = 'null'\n",
    "                \n",
    "        else:\n",
    "            v_hubble_pv = v_helio + v_apex*(np.sin(b)*np.sin(b_apex) \n",
    "                                   + np.cos(b)*np.cos(b_apex)*np.cos(l-l_apex))\n",
    "            \n",
    "            if v_hubble_pv > 0.0:\n",
    "                new_z = v_hubble_pv/c\n",
    "                lum_dis = cosmocalc_DL_Mpc(new_z, H0=H_0, WM=Omega_m, WV=Omega_L)[0]\n",
    "                \n",
    "                if g_z < 0.104752038:\n",
    "                    d = int(np.floor(lum_dis))\n",
    "                    p = hp.pixelfunc.ang2pix(nside, np.deg2rad(g_dec + 90.0), np.deg2rad(g_RA))\n",
    "                    \n",
    "                    pv = v_model_map[d][p]\n",
    "                    e_pv = e_model_map[d][p]\n",
    "                    \n",
    "                    if pv == None:\n",
    "                        flag = 3\n",
    "                        e_new_z = 'null'\n",
    "                        e_lum_dis = 'null'\n",
    "                    \n",
    "                    else:\n",
    "                        old_dist = lum_dis\n",
    "                        delta = 42.42\n",
    "                        delta_list = []\n",
    "                        count = 0\n",
    "                        \n",
    "                        while d < 500 and pv != None and delta > 0.001 and not(delta in delta_list) and count < 100:\n",
    "                            pv_sample = np.random.normal(pv, e_pv, 1000)\n",
    "                            v_hubble_sample = v_hubble_pv - pv_sample      \n",
    "                            negative_values = np.where(v_hubble_sample < 0.0)\n",
    "                            v_hubble_sample = np.delete(v_hubble_sample, negative_values)\n",
    "                            \n",
    "                            if v_hubble_sample.size > 500:\n",
    "                                flag = 2\n",
    "                                new_z_sample = v_hubble_sample/c\n",
    "                                new_z = np.mean(new_z_sample)\n",
    "                                e_new_z = np.std(new_z_sample)\n",
    "                                lum_dis_sample = cosmocalc_DL_Mpc(new_z_sample, H0=H_0, WM=Omega_m, WV=Omega_L)\n",
    "                                lum_dis = np.mean(lum_dis_sample)\n",
    "                                e_lum_dis = np.std(lum_dis_sample)\n",
    "                                \n",
    "                                delta = np.absolute(old_dist - lum_dis)\n",
    "                                delta_list.append(delta)\n",
    "                                old_dist = new_dist\n",
    "                                new_dist = lum_dis\n",
    "                                \n",
    "                                d = int(np.floor(new_dist)) \n",
    "                                pv = v_model_map[d][p]\n",
    "                                e_pv = e_model_map[d][p]\n",
    "                                count += 1\n",
    "                                \n",
    "                            else:\n",
    "                                flag = 3\n",
    "                                e_new_z = 'null'\n",
    "                                e_lum_dis = 'null'\n",
    "                                break\n",
    "                else:\n",
    "                    flag = 3\n",
    "                    e_new_z = 'null'\n",
    "                    e_lum_dis = 'null'              \n",
    "                            \n",
    "            else:\n",
    "                flag = 4 # Negative redshift \n",
    "                new_z = 'null'\n",
    "                e_new_z = 'null'\n",
    "                lum_dis = 'null'\n",
    "                e_lum_dis = 'null'\n",
    "            \n",
    "    result = [g[0], g[1], g[2], g[3], g[4], g[10], new_z, e_new_z, lum_dis, e_lum_dis, flag]\n",
    "    \n",
    "    with open('/media/gabriel/Data/University/ELTE/Thesis/GLADE/Calculated_Distances_new1000.txt', 'a', newline='') as csvfile:\n",
    "        writer = csv.writer(csvfile, delimiter='\\t', quotechar='|', quoting=csv.QUOTE_MINIMAL)\n",
    "        \n",
    "        writer.writerow(result)\n",
    "        \n",
    "elapsed_time = time.time() - start_time\n",
    "print(elapsed_time)"
   ]
  },
  {
   "cell_type": "code",
   "execution_count": 20,
   "metadata": {},
   "outputs": [],
   "source": [
    "names = []\n",
    "for g in pv_catalog:\n",
    "    names.append(g.name)"
   ]
  },
  {
   "cell_type": "code",
   "execution_count": 21,
   "metadata": {},
   "outputs": [
    {
     "name": "stdout",
     "output_type": "stream",
     "text": [
      "22.639750242233276\n"
     ]
    }
   ],
   "source": [
    "start_time = time.time()\n",
    "for g in glade:\n",
    "#for ii in range(2210669, 3262883):\n",
    "    #g = glade[ii]\n",
    "    if g[10] == 'null':\n",
    "        flag = 5\n",
    "        new_z = 'null'\n",
    "        e_new_z = 'null'\n",
    "        lum_dis = 'null'\n",
    "        e_lum_diz = 'null'\n",
    "        \n",
    "    else:\n",
    "        g_z = float(g[10])\n",
    "        v_helio = g_z*c\n",
    "        \n",
    "        g_RA = float(g[6])\n",
    "        g_dec = float(g[7])\n",
    "        coord = SkyCoord(ra=g_RA*u.degree, dec=g_dec*u.degree, distance=42.42) # Distance is irrelevant here\n",
    "        b = coord.galactic.b*u.degree/u.degree\n",
    "        l = coord.galactic.l*u.degree/u.degree\n",
    "        \n",
    "        if (g[0] in names) or (g[3] in names): # g[0] = PGC, g[3] = 2MASS ID\n",
    "            try:\n",
    "                index_pv = names.index(g[0])\n",
    "                del names[index_pv]\n",
    "\n",
    "            except:\n",
    "                index_pv = names.index(g[3])\n",
    "                del names[index_pv]\n",
    "                \n",
    "            pv = pv_catalog[index_pv].vMLE\n",
    "            e_pv = pv_catalog[index_pv].eMLE\n",
    "            \n",
    "            pv_sample = np.random.normal(pv, e_pv, 1000)\n",
    "\n",
    "            v_hubble_sample = v_helio + v_apex*(np.sin(b)*np.sin(b_apex)\n",
    "                                                + np.cos(b)*np.cos(b_apex)*np.cos(l-l_apex)) - pv_sample\n",
    "                \n",
    "            negative_values = np.where(v_hubble_sample < 0.0)\n",
    "            v_hubble_sample = np.delete(v_hubble_sample, negative_values)\n",
    "        \n",
    "            if v_hubble_sample.size > 500:\n",
    "                flag = 1 # It is in the PV Catalog\n",
    "                new_z_sample = v_hubble_sample/c\n",
    "                new_z = np.mean(new_z_sample)\n",
    "                e_new_z = np.std(new_z_sample)\n",
    "                lum_dis_sample = cosmocalc_DL_Mpc(new_z_sample, H0=H_0, WM=Omega_m, WV=Omega_L, n=500)\n",
    "                lum_dis = np.mean(lum_dis_sample)\n",
    "                e_lum_dis = np.std(lum_dis_sample)\n",
    "            \n",
    "            else:\n",
    "                flag = 4 # Negative redshift \n",
    "                new_z = 'null'\n",
    "                e_new_z = 'null'\n",
    "                lum_dis = 'null'\n",
    "                e_lum_dis = 'null'\n",
    "                \n",
    "        else:\n",
    "            v_hubble_pv = v_helio + v_apex*(np.sin(b)*np.sin(b_apex) \n",
    "                                   + np.cos(b)*np.cos(b_apex)*np.cos(l-l_apex))\n",
    "            \n",
    "            if v_hubble_pv > 0.0:\n",
    "                new_z = v_hubble_pv/c\n",
    "                lum_dis = cosmocalc_DL_Mpc(new_z, H0=H_0, WM=Omega_m, WV=Omega_L, n=500)[0]\n",
    "                \n",
    "                if g_z < 0.104752038:\n",
    "                    d = int(np.floor(lum_dis))\n",
    "                    p = hp.pixelfunc.ang2pix(nside, np.deg2rad(g_dec + 90.0), np.deg2rad(g_RA))\n",
    "                    \n",
    "                    pv = v_model_map[d][p]\n",
    "                    e_pv = e_model_map[d][p]\n",
    "                    \n",
    "                    if pv == None:\n",
    "                        flag = 3\n",
    "                        e_new_z = 'null'\n",
    "                        e_lum_dis = 'null'\n",
    "                    \n",
    "                    else:\n",
    "                        old_dist = lum_dis\n",
    "                        delta = 42.42\n",
    "                        delta_list = []\n",
    "                        count = 0\n",
    "                        \n",
    "                        while d < 500 and pv != None and delta > 0.001 and not(delta in delta_list) and count < 100:\n",
    "                            pv_sample = np.random.normal(pv, e_pv, 1000)\n",
    "                            v_hubble_sample = v_hubble_pv - pv_sample      \n",
    "                            negative_values = np.where(v_hubble_sample < 0.0)\n",
    "                            v_hubble_sample = np.delete(v_hubble_sample, negative_values)\n",
    "                            \n",
    "                            if v_hubble_sample.size > 500:\n",
    "                                flag = 2\n",
    "                                new_z_sample = v_hubble_sample/c\n",
    "                                new_z = np.mean(new_z_sample)\n",
    "                                e_new_z = np.std(new_z_sample)\n",
    "                                lum_dis_sample = cosmocalc_DL_Mpc(new_z_sample, H0=H_0, WM=Omega_m, WV=Omega_L, n=500)\n",
    "                                lum_dis = np.mean(lum_dis_sample)\n",
    "                                e_lum_dis = np.std(lum_dis_sample)\n",
    "                                \n",
    "                                delta = np.absolute(old_dist - lum_dis)\n",
    "                                delta_list.append(delta)\n",
    "                                old_dist = new_dist\n",
    "                                new_dist = lum_dis\n",
    "                                \n",
    "                                d = int(np.floor(new_dist)) \n",
    "                                pv = v_model_map[d][p]\n",
    "                                e_pv = e_model_map[d][p]\n",
    "                                count += 1\n",
    "                                \n",
    "                            else:\n",
    "                                flag = 3\n",
    "                                e_new_z = 'null'\n",
    "                                e_lum_dis = 'null'\n",
    "                                break\n",
    "                else:\n",
    "                    flag = 3\n",
    "                    e_new_z = 'null'\n",
    "                    e_lum_dis = 'null'              \n",
    "                            \n",
    "            else:\n",
    "                flag = 4 # Negative redshift \n",
    "                new_z = 'null'\n",
    "                e_new_z = 'null'\n",
    "                lum_dis = 'null'\n",
    "                e_lum_dis = 'null'\n",
    "            \n",
    "    result = [g[0], g[1], g[2], g[3], g[4], g[10], new_z, e_new_z, lum_dis, e_lum_dis, flag]\n",
    "    \n",
    "    with open('/media/gabriel/Data/University/ELTE/Thesis/GLADE/Calculated_Distances_new500.txt', 'a', newline='') as csvfile:\n",
    "        writer = csv.writer(csvfile, delimiter='\\t', quotechar='|', quoting=csv.QUOTE_MINIMAL)\n",
    "        \n",
    "        writer.writerow(result)\n",
    "        \n",
    "elapsed_time = time.time() - start_time\n",
    "print(elapsed_time)"
   ]
  },
  {
   "cell_type": "markdown",
   "metadata": {},
   "source": [
    "#### Flags\n",
    "\n",
    "0. Measured distance\n",
    "1. It is in the PV Catalog\n",
    "2. It is in the PV Model Map\n",
    "3. Corrected just by the CMB Frame\n",
    "4. Negative redshift after trying to correct\n",
    "5. No redshift available"
   ]
  },
  {
   "cell_type": "markdown",
   "metadata": {},
   "source": [
    "## Error estimation\n",
    "\n",
    "Something"
   ]
  },
  {
   "cell_type": "code",
   "execution_count": null,
   "metadata": {},
   "outputs": [],
   "source": [
    "flag_1 = 0\n",
    "flag_2 = 0\n",
    "flag_345 = 0\n",
    "\n",
    "good_1 = 0\n",
    "good_pv_1 = 0\n",
    "\n",
    "good_2 = 0\n",
    "good_pv_2 = 0\n",
    "\n",
    "with open('/media/gabriel/Data/University/ELTE/Thesis/GLADE/Calculated_Distances_sample.txt', newline='') as csvfile:\n",
    "    reader = csv.reader(csvfile, delimiter='\\t', quotechar='|')\n",
    "    for row in reader:\n",
    "        if row[8] == '1':\n",
    "            flag_1 += 1\n",
    "            index = int(row[9])\n",
    "            print(row[8],\":\", index)\n",
    "            \n",
    "            pv = pv_catalog[int(row[9])].vMLE\n",
    "            epv = pv_catalog[int(row[9])].eMLE\n",
    "            z = float(row[6])\n",
    "            \n",
    "            v_cmb = z*c\n",
    "            v_cmp_pv = v_cmb + pv\n",
    "            \n",
    "            s = np.random.normal(0.0, epv, 1000000)\n",
    "            s_pv =  np.random.normal(pv, epv, 1000000)\n",
    "            \n",
    "            new_v_cmb = v_cmb - s\n",
    "            new_v_cmb_pv = v_cmb - s_pv\n",
    "            \n",
    "            index_negative = np.where(new_v_cmb < 0.0)\n",
    "            index_negative_pv = np.where(new_v_cmb_pv < 0.0)\n",
    "            \n",
    "            new_v_cmb = np.delete(new_v_cmb, index_negative)\n",
    "            new_v_cmb_pv = np.delete(new_v_cmb_pv, index_negative_pv)\n",
    "            \n",
    "            new_dist = new_v_cmb/H_0\n",
    "            new_dist_pv = new_v_cmb_pv/H_0\n",
    "            \n",
    "            mean_dist = np.mean(new_dist)\n",
    "            mean_dist_pv = np.mean(new_dist_pv)\n",
    "            \n",
    "            std_dist = np.std(new_dist)\n",
    "            std_dist_pv = np.std(new_dist_pv)\n",
    "            \n",
    "            previous_dist = float(row[7])\n",
    "            print(previous_dist)\n",
    "            \n",
    "            print(mean_dist, \"±\", std_dist)\n",
    "            print(new_dist.size)\n",
    "            \n",
    "            if (mean_dist+std_dist) >  previous_dist and (mean_dist-std_dist) <  previous_dist:\n",
    "                print(\"Good (no pv)\")\n",
    "                good_1 += 1\n",
    "            else:\n",
    "                print(\"Bad (no pv)\")\n",
    "                good_pv_1 += 1\n",
    "            \n",
    "            print(mean_dist_pv, \"±\", std_dist_pv)\n",
    "            print(new_dist_pv.size)\n",
    "            \n",
    "            if (mean_dist_pv+std_dist_pv) >  previous_dist and (mean_dist_pv-std_dist_pv) <  previous_dist:\n",
    "                print(\"Good (with pv)\")\n",
    "            else:\n",
    "                print(\"Bad (with pv)\")  \n",
    "            print(\"---\")\n",
    "            \n",
    "        elif row[8] == '2':\n",
    "            flag_2 += 1\n",
    "            d = int(row[9])\n",
    "            p = int(row[10])\n",
    "            print(row[8],\":\", row[9], row[10])\n",
    "            \n",
    "            pv = v_model_map[d][p]\n",
    "            epv = e_model_map[d][p]\n",
    "            z = float(row[6])\n",
    "            \n",
    "            v_cmb = z*c\n",
    "            v_cmp_pv = v_cmb + pv\n",
    "            \n",
    "            s = np.random.normal(0.0, epv, 1000000)\n",
    "            s_pv =  np.random.normal(pv, epv, 1000000)\n",
    "            \n",
    "            new_v_cmb = v_cmb - s\n",
    "            new_v_cmb_pv = v_cmb - s_pv\n",
    "            \n",
    "            index_negative = np.where(new_v_cmb < 0.0)\n",
    "            index_negative_pv = np.where(new_v_cmb_pv < 0.0)\n",
    "            \n",
    "            new_v_cmb = np.delete(new_v_cmb, index_negative)\n",
    "            new_v_cmb_pv = np.delete(new_v_cmb_pv, index_negative_pv)\n",
    "            \n",
    "            new_dist = new_v_cmb/H_0\n",
    "            new_dist_pv = new_v_cmb_pv/H_0\n",
    "            \n",
    "            mean_dist = np.mean(new_dist)\n",
    "            mean_dist_pv = np.mean(new_dist_pv)\n",
    "            \n",
    "            std_dist = np.std(new_dist)\n",
    "            std_dist_pv = np.std(new_dist_pv)\n",
    "            \n",
    "            previous_dist = float(row[7])\n",
    "            print(previous_dist)\n",
    "            \n",
    "            print(mean_dist, \"±\", std_dist)\n",
    "            print(new_dist.size)\n",
    "            \n",
    "            if (mean_dist+std_dist) >  previous_dist and (mean_dist-std_dist) <  previous_dist:\n",
    "                print(\"Good (no pv)\")\n",
    "                good_2 += 1\n",
    "            else:\n",
    "                print(\"Bad (no pv)\")\n",
    "                good_pv_2 += 1\n",
    "            \n",
    "            print(mean_dist_pv, \"±\", std_dist_pv)\n",
    "            print(new_dist_pv.size)\n",
    "            \n",
    "            if (mean_dist_pv+std_dist_pv) >  previous_dist and (mean_dist_pv-std_dist_pv) <  previous_dist:\n",
    "                print(\"Good (with pv)\")\n",
    "            else:\n",
    "                print(\"Bad (with pv)\")  \n",
    "            \n",
    "            print(\"---\")\n",
    "            \n",
    "        else:\n",
    "            flag_345 += 1\n",
    "            "
   ]
  },
  {
   "cell_type": "markdown",
   "metadata": {},
   "source": [
    "## Flag counting"
   ]
  },
  {
   "cell_type": "code",
   "execution_count": 3,
   "metadata": {
    "scrolled": false
   },
   "outputs": [
    {
     "name": "stdout",
     "output_type": "stream",
     "text": [
      "8054\n",
      "1297518\n",
      "20828427\n",
      "6887\n",
      "540397\n",
      "0.035509455086822024 5.7206552204299905 91.83090304018516 0.030364243504214468 2.3825680407938123\n",
      "22681283\n"
     ]
    }
   ],
   "source": [
    "# 8 for GLADE v2.3\n",
    "# 10 for GLADE v3.0\n",
    "# 12 for Calculated Distances\n",
    "\n",
    "flag01 = 0\n",
    "flag02 = 0\n",
    "flag03 = 0\n",
    "flag04 = 0\n",
    "flag05 = 0\n",
    "with open('/media/gabriel/Data/University/ELTE/Thesis/GLADE/Calculated_Distances_3.txt', newline='') as csvfile:\n",
    "    reader = csv.reader(csvfile, delimiter='\\t', quotechar='|')\n",
    "    for row in reader:\n",
    "        if row[12] == '1':\n",
    "            flag01 += 1\n",
    "        if row[12] == '2':\n",
    "            flag02 += 1\n",
    "        if row[12] == '3':\n",
    "            flag03 += 1\n",
    "        if row[12] == '4':\n",
    "            flag04 += 1\n",
    "        if row[12] == '5':\n",
    "            flag05 += 1\n",
    "\n",
    "total = flag01 + flag02 + flag03 + flag04 + flag05\n",
    "\n",
    "print(flag01)\n",
    "print(flag02)\n",
    "print(flag03)\n",
    "print(flag04)\n",
    "print(flag05)\n",
    "\n",
    "print(flag01/total*100, flag02/total*100, flag03/total*100, flag04/total*100, flag05/total*100)\n",
    "\n",
    "print(total)"
   ]
  },
  {
   "cell_type": "code",
   "execution_count": 9,
   "metadata": {},
   "outputs": [
    {
     "data": {
      "image/png": "[encoded data removed]",
      "text/plain": [
       "<Figure size 720x720 with 1 Axes>"
      ]
     },
     "metadata": {},
     "output_type": "display_data"
    }
   ],
   "source": [
    "# Pie chart, where the slices will be ordered and plotted counter-clockwise:\n",
    "labels = 'Flag 1', 'Flag 2', 'Flag 3', 'Flag 4', 'Flag 5'\n",
    "sizes = [8054, 1297518, 20828427, 6887, 540397]\n",
    "\n",
    "fig, ax = plt.subplots(figsize=(10, 10))\n",
    "ax.pie(sizes, labels=labels, autopct='%1.3f%%')\n",
    "ax.axis('equal')  # Equal aspect ratio ensures that pie is drawn as a circle.\n",
    "\n",
    "plt.show()"
   ]
  },
  {
   "cell_type": "code",
   "execution_count": null,
   "metadata": {},
   "outputs": [],
   "source": [
    "flag = 0\n",
    "with open('/media/gabriel/Data/University/ELTE/Thesis/GLADE/GLADE_2.3.txt', newline='') as csvfile:\n",
    "    reader = csv.reader(csvfile, delimiter=' ', quotechar='|')\n",
    "    for row in reader:\n",
    "        if row[21] == '1':\n",
    "            flag += 1"
   ]
  },
  {
   "cell_type": "code",
   "execution_count": null,
   "metadata": {},
   "outputs": [],
   "source": [
    "print(flag/3262883*100)"
   ]
  },
  {
   "cell_type": "markdown",
   "metadata": {},
   "source": [
    "## Compare Distances SNIa"
   ]
  },
  {
   "cell_type": "code",
   "execution_count": null,
   "metadata": {},
   "outputs": [],
   "source": [
    "IDs = []\n",
    "dists = []\n",
    "with open('/media/gabriel/Data/University/ELTE/Thesis/Data/CF3-SNIa.txt', newline='') as csvfile:\n",
    "    reader = csv.reader(csvfile, delimiter='\\t', quotechar='|', skipinitialspace=True)\n",
    "    \n",
    "    # Skip header\n",
    "    for i in range(5):\n",
    "        next(reader)\n",
    "          \n",
    "    for row in reader:\n",
    "        IDs.append(row[0])\n",
    "        dists.append(float(row[2]))"
   ]
  },
  {
   "cell_type": "code",
   "execution_count": null,
   "metadata": {
    "scrolled": false
   },
   "outputs": [],
   "source": [
    "count = 0\n",
    "relative_error = []\n",
    "used_d_cf3 = []\n",
    "with open('/media/gabriel/Data/University/ELTE/Thesis/GLADE/Calculated_Distances.txt', newline='') as csvfile:\n",
    "    reader = csv.reader(csvfile, delimiter='\\t', quotechar='|', skipinitialspace=True)\n",
    "    for row in reader:\n",
    "        if row[0] in IDs:\n",
    "            i = IDs.index(row[0])\n",
    "            d_glade = float(row[7])\n",
    "            d_cf3 = dists[i]\n",
    "            used_d_cf3.append(d_cf3)\n",
    "            e = (d_glade - d_cf3)/d_cf3\n",
    "            relative_error.append(e)\n",
    "            count += 1\n",
    "print(count)"
   ]
  },
  {
   "cell_type": "code",
   "execution_count": null,
   "metadata": {},
   "outputs": [],
   "source": [
    "fig, ax = plt.subplots()\n",
    "\n",
    "plt.hist(relative_error, bins=40)\n",
    "\n",
    "plt.show()"
   ]
  },
  {
   "cell_type": "code",
   "execution_count": null,
   "metadata": {},
   "outputs": [],
   "source": [
    "fig, ax = plt.subplots()\n",
    "\n",
    "plt.plot(used_d_cf3, relative_error, 'bo')\n",
    "\n",
    "plt.show()"
   ]
  },
  {
   "cell_type": "markdown",
   "metadata": {},
   "source": [
    "## Update the Catalog\n",
    "\n",
    "### GLADE v2.3"
   ]
  },
  {
   "cell_type": "code",
   "execution_count": null,
   "metadata": {
    "scrolled": true
   },
   "outputs": [],
   "source": [
    "with open('/media/gabriel/Data/University/ELTE/Thesis/GLADE/Calculated_Distances.txt', newline='') as f1:\n",
    "    r1 = csv.reader(f1, delimiter='\\t', quotechar='|', skipinitialspace=True)\n",
    "    \n",
    "    with open('/media/gabriel/Data/University/ELTE/Thesis/GLADE/GLADE_2.3.txt', newline='') as f2:\n",
    "        r2 = csv.reader(f2, delimiter=' ', quotechar='|', skipinitialspace=True)\n",
    "        \n",
    "        with open('/media/gabriel/Data/University/ELTE/Thesis/GLADE/new_GLADE_2.3.txt', 'w', newline='') as f3:\n",
    "            w1 = csv.writer(f3, delimiter=' ', quotechar='|', quoting=csv.QUOTE_MINIMAL)\n",
    "        \n",
    "            for i in range(3262881):\n",
    "                info_d = next(r1)\n",
    "                info_g = next(r2)\n",
    "\n",
    "                if info_d[0] == '':\n",
    "                    info_d[0] = 'null'\n",
    "                if info_d[1] == '':\n",
    "                    info_d[1] = 'null'\n",
    "                if info_d[2] == '':\n",
    "                    info_d[2] = 'null'\n",
    "                if info_d[3] == '':\n",
    "                    info_d[3] = 'null'\n",
    "                if info_d[4] == '':\n",
    "                    info_d[4] = 'null'\n",
    "\n",
    "                if (info_d[0] == info_g[0] and info_d[1] == info_g[1] and \n",
    "                    info_d[2] == info_g[2] and info_d[3] == info_g[3] and\n",
    "                    info_d[4] == info_g[4]):\n",
    "                    if info_g[20] == '2':\n",
    "                        # There is distances measurement\n",
    "                         w1.writerow([info_g[0], info_g[1], info_g[2], info_g[3], info_g[4], info_g[5],\n",
    "                                      info_g[6], info_g[7], info_g[8], info_g[9], info_g[10], info_g[11],\n",
    "                                      info_g[12], info_g[13], info_g[14], info_g[15], info_g[16], info_g[17],\n",
    "                                      info_g[18], info_g[19], info_g[20], '0'])\n",
    "                            \n",
    "                    else:\n",
    "                        # New calculated distance measurement\n",
    "                        w1.writerow([info_g[0], info_g[1], info_g[2], info_g[3], info_g[4], info_g[5],\n",
    "                                     info_g[6], info_g[7], info_d[7], 'null', info_g[10], info_g[11],\n",
    "                                     info_g[12], info_g[13], info_g[14], info_g[15], info_g[16], info_g[17],\n",
    "                                     info_g[18], info_g[19], info_g[20], info_d[8]])\n",
    "                        \n",
    "                else:\n",
    "                    print(\"!!! MATCHING ERROR !!!\")\n",
    "                    print(\">> entry:\", i)\n",
    "                    \n",
    "                    if info_d[0] != info_g[0]:\n",
    "                        print(\">> index: 0\", info_d[0], \"!=\", info_g[0])\n",
    "                    if info_d[1] != info_g[1]:   \n",
    "                        print(\">> index: 1\", info_d[1], \"!=\", info_g[1])\n",
    "                    if info_d[2] != info_g[2]:\n",
    "                        print(\">> index: 2\", info_d[2], \"!=\", info_g[2])\n",
    "                    if info_d[3] != info_g[3]:\n",
    "                        print(\">> index: 3\", info_d[3], \"!=\", info_g[3])\n",
    "                    if info_d[4] != info_g[4]:\n",
    "                        print(\">> index: 4\", info_d[4], \"!=\", info_g[4])\n",
    "                    print()               "
   ]
  },
  {
   "cell_type": "code",
   "execution_count": null,
   "metadata": {},
   "outputs": [],
   "source": [
    "print(flag_1, flag_2, flag_345)\n",
    "print(good_1, good_pv_1)\n",
    "print(good_2, good_pv_2)"
   ]
  },
  {
   "cell_type": "code",
   "execution_count": null,
   "metadata": {},
   "outputs": [],
   "source": [
    "with open('/media/gabriel/Data/University/ELTE/Thesis/GLADE/Calculated_Distances.txt', newline='') as f1:\n",
    "    r1 = csv.reader(f1, delimiter='\\t', quotechar='|', skipinitialspace=True)\n",
    "    size_d = 0\n",
    "    for row in r1:\n",
    "        size_d += 1\n",
    "\n",
    "with open('/media/gabriel/Data/University/ELTE/Thesis/GLADE/GLADE_2.3.txt', newline='') as f2:\n",
    "    r2 = csv.reader(f2, delimiter=' ', quotechar='|', skipinitialspace=True)\n",
    "    size_g = 0\n",
    "    for row in r2:\n",
    "        size_g += 1\n",
    "        \n",
    "with open('/media/gabriel/Data/University/ELTE/Thesis/GLADE/new_GLADE_2.3.txt', newline='') as f3:\n",
    "    r3 = csv.reader(f3, delimiter=' ', quotechar='|', skipinitialspace=True)\n",
    "    size_ng = 0\n",
    "    for row in r3:\n",
    "        size_ng += 1\n",
    "        \n",
    "print(size_d)\n",
    "print(size_g)\n",
    "print(size_ng)\n"
   ]
  },
  {
   "cell_type": "code",
   "execution_count": null,
   "metadata": {},
   "outputs": [],
   "source": []
  },
  {
   "cell_type": "markdown",
   "metadata": {},
   "source": [
    "## SIZE FILE"
   ]
  },
  {
   "cell_type": "code",
   "execution_count": 2,
   "metadata": {},
   "outputs": [
    {
     "name": "stdout",
     "output_type": "stream",
     "text": [
      "131911\n"
     ]
    }
   ],
   "source": [
    "import csv\n",
    "\n",
    "with open('/media/gabriel/Data/University/ELTE/Thesis/GLADE/Calculated_Distances_3.txt', newline='') as f3:\n",
    "    r3 = csv.reader(f3, delimiter=' ', quotechar='|', skipinitialspace=True)\n",
    "    size_file = 0\n",
    "    for row in r3:\n",
    "        size_file += 1\n",
    "        \n",
    "print(size_file)"
   ]
  },
  {
   "cell_type": "code",
   "execution_count": null,
   "metadata": {},
   "outputs": [],
   "source": []
  },
  {
   "cell_type": "code",
   "execution_count": null,
   "metadata": {},
   "outputs": [],
   "source": [
    "gg = glade[2210669]\n",
    "print(gg[0], gg[1], gg[2], gg[3], gg[4], gg[10])"
   ]
  },
  {
   "cell_type": "code",
   "execution_count": null,
   "metadata": {},
   "outputs": [],
   "source": [
    "dist = cosmocalc(0.104752038, H0=H_0, WM=Omega_m, WV=Omega_L)['DL_Mpc']\n",
    "\n",
    "d_int = int(np.floor(dist))\n",
    "print(d_int) "
   ]
  },
  {
   "cell_type": "code",
   "execution_count": null,
   "metadata": {},
   "outputs": [],
   "source": []
  },
  {
   "cell_type": "code",
   "execution_count": null,
   "metadata": {},
   "outputs": [],
   "source": [
    "for i in range(5, 10):\n",
    "    print(i)"
   ]
  },
  {
   "cell_type": "code",
   "execution_count": null,
   "metadata": {},
   "outputs": [],
   "source": [
    "print(len(names))"
   ]
  },
  {
   "cell_type": "code",
   "execution_count": null,
   "metadata": {},
   "outputs": [],
   "source": [
    "print(glade[0][0])"
   ]
  },
  {
   "cell_type": "code",
   "execution_count": null,
   "metadata": {},
   "outputs": [],
   "source": [
    "redshifts = [0.005, 0.006]\n",
    "print(z)\n",
    "d = [cosmocalc(z, H0=H_0, WM=Omega_m, WV=Omega_L)['DL_Mpc'] for z in redshifts]\n",
    "print(d)"
   ]
  },
  {
   "cell_type": "code",
   "execution_count": 4,
   "metadata": {},
   "outputs": [
    {
     "name": "stdout",
     "output_type": "stream",
     "text": [
      "['2789' 'NGC0253' 'NGC0253' '00473313-2517196' 'null' 'G' '11.88806'\n",
      " '-25.288799' '3.92595099046' 'null' '0.00091602045801' '7.34' '0.30'\n",
      " 'null' '4.874' '0.015' '4.143' '0.015' '3.822' '0.016' '3' '0']\n"
     ]
    }
   ],
   "source": [
    "print(glade[0])"
   ]
  },
  {
   "cell_type": "code",
   "execution_count": 23,
   "metadata": {},
   "outputs": [
    {
     "name": "stdout",
     "output_type": "stream",
     "text": [
      "0.0020514760017395018 ± 0.0012143604501272504\n",
      "0.0022445206642150877 ± 0.0009581686789822881\n"
     ]
    }
   ],
   "source": [
    "times_1 = []\n",
    "times_2 = []\n",
    "for i in range(1000):\n",
    "    start_time = time.time()\n",
    "    with open('/media/gabriel/Data/University/ELTE/Thesis/GLADE/GLADE_2.3_sample.txt', newline='') as csvfile:\n",
    "        reader = csv.reader(csvfile, delimiter=' ', quotechar='|')\n",
    "        for row in reader:\n",
    "            z = row[10]\n",
    "    t1 = time.time() - start_time\n",
    "    times_1.append(t1)\n",
    "\n",
    "    start_time = time.time()\n",
    "    glade = np.load('/media/gabriel/Data/University/ELTE/Thesis/GLADE/glade_3.0_sample.npy', allow_pickle=True)\n",
    "\n",
    "    for g in glade:\n",
    "        z = g[10]\n",
    "    t2 = time.time() - start_time\n",
    "    times_2.append(t2)\n",
    "\n",
    "print(np.mean(times_1), \"±\", np.std(times_1))\n",
    "print(np.mean(times_2), \"±\", np.std(times_2))\n"
   ]
  },
  {
   "cell_type": "code",
   "execution_count": 3,
   "metadata": {},
   "outputs": [
    {
     "data": {
      "text/plain": [
       "array([0.37454012])"
      ]
     },
     "execution_count": 3,
     "metadata": {},
     "output_type": "execute_result"
    }
   ],
   "source": [
    "np.random.seed(42)\n",
    "np.random.random(1)"
   ]
  },
  {
   "cell_type": "code",
   "execution_count": 3,
   "metadata": {},
   "outputs": [
    {
     "name": "stdout",
     "output_type": "stream",
     "text": [
      "z:\n",
      "4.0174028585164704e-05 0.0020338951536486008\n",
      "dis:\n",
      "0.19206120360152892 9.01410555655399\n"
     ]
    }
   ],
   "source": [
    "np.random.seed(42)\n",
    "sample = np.random.normal(0.0, 623, 1000)\n",
    "sample /= c\n",
    "mean_z = np.mean(sample)\n",
    "std_z = np.std(sample)\n",
    "print(\"z:\")\n",
    "print(mean_z, std_z)\n",
    "dis_e = cosmocalc_DL_Mpc(sample, H0=H_0, WM=Omega_m, WV=Omega_L, n=500)\n",
    "mean_d = np.mean(dis_e)\n",
    "std_d = np.std(dis_e)\n",
    "print(\"dis:\")\n",
    "print(mean_d, std_d)"
   ]
  },
  {
   "cell_type": "markdown",
   "metadata": {},
   "source": [
    "## Time to finish it"
   ]
  },
  {
   "cell_type": "code",
   "execution_count": 10,
   "metadata": {},
   "outputs": [],
   "source": [
    "date = []\n",
    "num = []\n",
    "with open('/media/gabriel/Data/University/ELTE/Thesis/Data/time_lum_dis.txt', newline='') as csvfile:\n",
    "    reader = csv.reader(csvfile, delimiter='\\t', quotechar='|')\n",
    "    for row in reader:\n",
    "        date.append(np.datetime64(row[0]))\n",
    "        num.append(np.uint32(row[1]))\n",
    "        "
   ]
  },
  {
   "cell_type": "code",
   "execution_count": 11,
   "metadata": {},
   "outputs": [
    {
     "name": "stdout",
     "output_type": "stream",
     "text": [
      "[5.67336260e+01 1.82739016e+07]\n"
     ]
    }
   ],
   "source": [
    "timestamp = (date - date[0]) / np.timedelta64(1, 's')\n",
    "model = np.polyfit(timestamp, num, 1)\n",
    "print(model)"
   ]
  },
  {
   "cell_type": "code",
   "execution_count": 12,
   "metadata": {},
   "outputs": [
    {
     "name": "stdout",
     "output_type": "stream",
     "text": [
      "1305065328 seconds\n",
      "\n",
      "15104 days\n",
      "22 hours\n",
      "8 minutes\n",
      "48 seconds\n",
      "\n",
      "2061-08-17T08:07:08\n"
     ]
    }
   ],
   "source": [
    "predict = np.poly1d(model)\n",
    "complete = 22681283\n",
    "total_time = np.uint32(predict(complete))\n",
    "print(total_time, \"seconds\")\n",
    "print()\n",
    "days = np.uint32(np.timedelta64(total_time, 's')/np.timedelta64(1,'D'))\n",
    "print(np.timedelta64(days, 'D'))\n",
    "hours = np.uint32((np.timedelta64(total_time, 's') - np.timedelta64(days, 'D'))/np.timedelta64(1,'h'))\n",
    "print(np.timedelta64(hours, 'h'))\n",
    "minutes = np.uint32((np.timedelta64(total_time, 's') - np.timedelta64(days, 'D')\n",
    "                     - np.timedelta64(hours, 'h'))/np.timedelta64(1,'m'))\n",
    "print(np.timedelta64(minutes, 'm'))\n",
    "seconds = np.uint32(np.timedelta64(total_time, 's') - np.timedelta64(days, 'D') \n",
    "                    - np.timedelta64(hours, 'h') - np.timedelta64(minutes, 'm'))\n",
    "print(np.timedelta64(seconds, 's'))\n",
    "final_date = (np.datetime64('2020-04-09 09:58:20') + np.timedelta64(days, 'D') + np.timedelta64(hours, 'h') \n",
    "              + np.timedelta64(minutes, 'm') + np.timedelta64(seconds, 's'))\n",
    "print()\n",
    "print(final_date)"
   ]
  },
  {
   "cell_type": "code",
   "execution_count": 14,
   "metadata": {},
   "outputs": [
    {
     "data": {
      "image/png": "[encoded data removed]",
      "text/plain": [
       "<Figure size 720x720 with 1 Axes>"
      ]
     },
     "metadata": {
      "needs_background": "light"
     },
     "output_type": "display_data"
    }
   ],
   "source": [
    "fig_size = 10\n",
    "fig, ax = plt.subplots(figsize=(fig_size, fig_size))\n",
    "plt.plot(date, num, 'bo', label='Data')\n",
    "x = [date[0], date[-1]]\n",
    "y = [predict(num[0]), predict(num[-1])]\n",
    "plt.plot(x, y, label='Prediction', c='r')\n",
    "ax.set_xlabel(\"Date\", size='large')\n",
    "ax.set_ylabel(\"Complete Galaxies\", size='large')\n",
    "plt.legend(prop={'size': 'large'})\n",
    "plt.show()"
   ]
  },
  {
   "cell_type": "code",
   "execution_count": 1,
   "metadata": {},
   "outputs": [
    {
     "name": "stderr",
     "output_type": "stream",
     "text": [
      "/home/gabriel/.local/lib/python3.6/site-packages/IPython/core/interactiveshell.py:3051: DtypeWarning: Columns (1,2,3,4,5) have mixed types. Specify dtype option on import or set low_memory=False.\n",
      "  interactivity=interactivity, compiler=compiler, result=result)\n"
     ]
    },
    {
     "data": {
      "text/html": [
       "<div>\n",
       "<style scoped>\n",
       "    .dataframe tbody tr th:only-of-type {\n",
       "        vertical-align: middle;\n",
       "    }\n",
       "\n",
       "    .dataframe tbody tr th {\n",
       "        vertical-align: top;\n",
       "    }\n",
       "\n",
       "    .dataframe thead th {\n",
       "        text-align: right;\n",
       "    }\n",
       "</style>\n",
       "<table border=\"1\" class=\"dataframe\">\n",
       "  <thead>\n",
       "    <tr style=\"text-align: right;\">\n",
       "      <th></th>\n",
       "      <th>PGC</th>\n",
       "      <th>GWGC</th>\n",
       "      <th>HyperLEDA</th>\n",
       "      <th>2MASS</th>\n",
       "      <th>SDSS-DR12</th>\n",
       "      <th>wiseX</th>\n",
       "      <th>wiseID</th>\n",
       "      <th>z</th>\n",
       "      <th>new z</th>\n",
       "      <th>error z</th>\n",
       "      <th>lum dim</th>\n",
       "      <th>error lum dim</th>\n",
       "      <th>flag</th>\n",
       "    </tr>\n",
       "  </thead>\n",
       "  <tbody>\n",
       "    <tr>\n",
       "      <td>0</td>\n",
       "      <td>43495.0</td>\n",
       "      <td>NGC4736</td>\n",
       "      <td>NGC4736</td>\n",
       "      <td>12505314+4107125</td>\n",
       "      <td>NaN</td>\n",
       "      <td>NaN</td>\n",
       "      <td>NaN</td>\n",
       "      <td>0.000991</td>\n",
       "      <td>0.002209</td>\n",
       "      <td>0.000290</td>\n",
       "      <td>9.805750</td>\n",
       "      <td>1.289576</td>\n",
       "      <td>1</td>\n",
       "    </tr>\n",
       "    <tr>\n",
       "      <td>1</td>\n",
       "      <td>41934.0</td>\n",
       "      <td>NGC4548</td>\n",
       "      <td>NGC4548</td>\n",
       "      <td>12352642+1429467</td>\n",
       "      <td>NaN</td>\n",
       "      <td>NaN</td>\n",
       "      <td>NaN</td>\n",
       "      <td>0.004120</td>\n",
       "      <td>0.005646</td>\n",
       "      <td>0.000213</td>\n",
       "      <td>25.126504</td>\n",
       "      <td>0.952838</td>\n",
       "      <td>1</td>\n",
       "    </tr>\n",
       "    <tr>\n",
       "      <td>2</td>\n",
       "      <td>60921.0</td>\n",
       "      <td>NGC6503</td>\n",
       "      <td>NGC6503</td>\n",
       "      <td>17492651+7008396</td>\n",
       "      <td>NaN</td>\n",
       "      <td>NaN</td>\n",
       "      <td>NaN</td>\n",
       "      <td>0.001000</td>\n",
       "      <td>NaN</td>\n",
       "      <td>NaN</td>\n",
       "      <td>NaN</td>\n",
       "      <td>NaN</td>\n",
       "      <td>4</td>\n",
       "    </tr>\n",
       "    <tr>\n",
       "      <td>3</td>\n",
       "      <td>40950.0</td>\n",
       "      <td>NGC4442</td>\n",
       "      <td>NGC4442</td>\n",
       "      <td>12280389+0948130</td>\n",
       "      <td>NaN</td>\n",
       "      <td>NaN</td>\n",
       "      <td>NaN</td>\n",
       "      <td>0.003557</td>\n",
       "      <td>0.005134</td>\n",
       "      <td>0.000203</td>\n",
       "      <td>22.836133</td>\n",
       "      <td>0.905499</td>\n",
       "      <td>1</td>\n",
       "    </tr>\n",
       "    <tr>\n",
       "      <td>4</td>\n",
       "      <td>41164.0</td>\n",
       "      <td>NGC4469</td>\n",
       "      <td>NGC4469</td>\n",
       "      <td>NaN</td>\n",
       "      <td>NaN</td>\n",
       "      <td>NaN</td>\n",
       "      <td>NaN</td>\n",
       "      <td>0.004139</td>\n",
       "      <td>0.005509</td>\n",
       "      <td>0.000074</td>\n",
       "      <td>24.510562</td>\n",
       "      <td>0.331959</td>\n",
       "      <td>2</td>\n",
       "    </tr>\n",
       "  </tbody>\n",
       "</table>\n",
       "</div>"
      ],
      "text/plain": [
       "       PGC     GWGC HyperLEDA             2MASS SDSS-DR12 wiseX  wiseID  \\\n",
       "0  43495.0  NGC4736   NGC4736  12505314+4107125       NaN   NaN     NaN   \n",
       "1  41934.0  NGC4548   NGC4548  12352642+1429467       NaN   NaN     NaN   \n",
       "2  60921.0  NGC6503   NGC6503  17492651+7008396       NaN   NaN     NaN   \n",
       "3  40950.0  NGC4442   NGC4442  12280389+0948130       NaN   NaN     NaN   \n",
       "4  41164.0  NGC4469   NGC4469               NaN       NaN   NaN     NaN   \n",
       "\n",
       "          z     new z   error z    lum dim  error lum dim  flag  \n",
       "0  0.000991  0.002209  0.000290   9.805750       1.289576     1  \n",
       "1  0.004120  0.005646  0.000213  25.126504       0.952838     1  \n",
       "2  0.001000       NaN       NaN        NaN            NaN     4  \n",
       "3  0.003557  0.005134  0.000203  22.836133       0.905499     1  \n",
       "4  0.004139  0.005509  0.000074  24.510562       0.331959     2  "
      ]
     },
     "execution_count": 1,
     "metadata": {},
     "output_type": "execute_result"
    }
   ],
   "source": [
    "import pandas as pd\n",
    "\n",
    "df = pd.read_csv(\"/media/gabriel/Data/University/ELTE/Thesis/GLADE/Calculated_Distances_3.txt\", \n",
    "                 delimiter='\\t', names=[\"PGC\", \"GWGC\", \"HyperLEDA\", \"2MASS\", \"SDSS-DR12\", \n",
    "                                                  \"wiseX\", \"wiseID\", \"z\", \"new z\", \"error z\", \"lum dim\",\n",
    "                                                  \"error lum dim\", \"flag\"])\n",
    "df.head()"
   ]
  },
  {
   "cell_type": "code",
   "execution_count": 2,
   "metadata": {},
   "outputs": [
    {
     "name": "stdout",
     "output_type": "stream",
     "text": [
      "<class 'pandas.core.frame.DataFrame'>\n",
      "RangeIndex: 20530713 entries, 0 to 20530712\n",
      "Data columns (total 13 columns):\n",
      "PGC              float64\n",
      "GWGC             object\n",
      "HyperLEDA        object\n",
      "2MASS            object\n",
      "SDSS-DR12        object\n",
      "wiseX            object\n",
      "wiseID           float64\n",
      "z                float64\n",
      "new z            float64\n",
      "error z          float64\n",
      "lum dim          float64\n",
      "error lum dim    float64\n",
      "flag             int64\n",
      "dtypes: float64(7), int64(1), object(5)\n",
      "memory usage: 2.0+ GB\n"
     ]
    }
   ],
   "source": [
    "df.info()"
   ]
  },
  {
   "cell_type": "code",
   "execution_count": 10,
   "metadata": {},
   "outputs": [
    {
     "data": {
      "text/plain": [
       "3.378053101351058e+18"
      ]
     },
     "execution_count": 10,
     "metadata": {},
     "output_type": "execute_result"
    }
   ],
   "source": [
    "df['wiseID'][20530712]  "
   ]
  },
  {
   "cell_type": "markdown",
   "metadata": {},
   "source": [
    "###### Note\n",
    "\n",
    "The first run stopped at the 20530713 entry (index 20530712)"
   ]
  },
  {
   "cell_type": "code",
   "execution_count": 20,
   "metadata": {},
   "outputs": [
    {
     "data": {
      "text/html": [
       "<div>\n",
       "<style scoped>\n",
       "    .dataframe tbody tr th:only-of-type {\n",
       "        vertical-align: middle;\n",
       "    }\n",
       "\n",
       "    .dataframe tbody tr th {\n",
       "        vertical-align: top;\n",
       "    }\n",
       "\n",
       "    .dataframe thead th {\n",
       "        text-align: right;\n",
       "    }\n",
       "</style>\n",
       "<table border=\"1\" class=\"dataframe\">\n",
       "  <thead>\n",
       "    <tr style=\"text-align: right;\">\n",
       "      <th></th>\n",
       "      <th>PGC</th>\n",
       "      <th>GWGC</th>\n",
       "      <th>HyperLEDA</th>\n",
       "      <th>2MASS</th>\n",
       "      <th>SDSS-DR12</th>\n",
       "      <th>wiseX</th>\n",
       "      <th>wiseID</th>\n",
       "      <th>z</th>\n",
       "      <th>new z</th>\n",
       "      <th>error z</th>\n",
       "      <th>lum dim</th>\n",
       "      <th>error lum dim</th>\n",
       "      <th>flag</th>\n",
       "    </tr>\n",
       "  </thead>\n",
       "  <tbody>\n",
       "    <tr>\n",
       "      <td>0</td>\n",
       "      <td>41934.0</td>\n",
       "      <td>NGC4548</td>\n",
       "      <td>NGC4548</td>\n",
       "      <td>12352642+1429467</td>\n",
       "      <td>NaN</td>\n",
       "      <td>NaN</td>\n",
       "      <td>NaN</td>\n",
       "      <td>0.004120</td>\n",
       "      <td>0.005654</td>\n",
       "      <td>1.000194</td>\n",
       "      <td>25.159052</td>\n",
       "      <td>0.866250</td>\n",
       "      <td>1</td>\n",
       "    </tr>\n",
       "    <tr>\n",
       "      <td>1</td>\n",
       "      <td>60921.0</td>\n",
       "      <td>NGC6503</td>\n",
       "      <td>NGC6503</td>\n",
       "      <td>17492651+7008396</td>\n",
       "      <td>NaN</td>\n",
       "      <td>NaN</td>\n",
       "      <td>NaN</td>\n",
       "      <td>0.001000</td>\n",
       "      <td>NaN</td>\n",
       "      <td>NaN</td>\n",
       "      <td>NaN</td>\n",
       "      <td>NaN</td>\n",
       "      <td>4</td>\n",
       "    </tr>\n",
       "    <tr>\n",
       "      <td>2</td>\n",
       "      <td>40950.0</td>\n",
       "      <td>NGC4442</td>\n",
       "      <td>NGC4442</td>\n",
       "      <td>12280389+0948130</td>\n",
       "      <td>NaN</td>\n",
       "      <td>NaN</td>\n",
       "      <td>NaN</td>\n",
       "      <td>0.003557</td>\n",
       "      <td>0.005122</td>\n",
       "      <td>1.000191</td>\n",
       "      <td>22.782431</td>\n",
       "      <td>0.854221</td>\n",
       "      <td>1</td>\n",
       "    </tr>\n",
       "    <tr>\n",
       "      <td>3</td>\n",
       "      <td>41164.0</td>\n",
       "      <td>NGC4469</td>\n",
       "      <td>NGC4469</td>\n",
       "      <td>NaN</td>\n",
       "      <td>NaN</td>\n",
       "      <td>NaN</td>\n",
       "      <td>NaN</td>\n",
       "      <td>0.004139</td>\n",
       "      <td>0.005504</td>\n",
       "      <td>1.000058</td>\n",
       "      <td>24.490690</td>\n",
       "      <td>0.257340</td>\n",
       "      <td>2</td>\n",
       "    </tr>\n",
       "    <tr>\n",
       "      <td>4</td>\n",
       "      <td>42241.0</td>\n",
       "      <td>NGC4586</td>\n",
       "      <td>NGC4586</td>\n",
       "      <td>12382843+0419087</td>\n",
       "      <td>NaN</td>\n",
       "      <td>NaN</td>\n",
       "      <td>NaN</td>\n",
       "      <td>0.003320</td>\n",
       "      <td>0.003788</td>\n",
       "      <td>1.000139</td>\n",
       "      <td>16.834128</td>\n",
       "      <td>0.620682</td>\n",
       "      <td>1</td>\n",
       "    </tr>\n",
       "  </tbody>\n",
       "</table>\n",
       "</div>"
      ],
      "text/plain": [
       "       PGC     GWGC HyperLEDA             2MASS  SDSS-DR12  wiseX  wiseID  \\\n",
       "0  41934.0  NGC4548   NGC4548  12352642+1429467        NaN    NaN     NaN   \n",
       "1  60921.0  NGC6503   NGC6503  17492651+7008396        NaN    NaN     NaN   \n",
       "2  40950.0  NGC4442   NGC4442  12280389+0948130        NaN    NaN     NaN   \n",
       "3  41164.0  NGC4469   NGC4469               NaN        NaN    NaN     NaN   \n",
       "4  42241.0  NGC4586   NGC4586  12382843+0419087        NaN    NaN     NaN   \n",
       "\n",
       "          z     new z   error z    lum dim  error lum dim  flag  \n",
       "0  0.004120  0.005654  1.000194  25.159052       0.866250     1  \n",
       "1  0.001000       NaN       NaN        NaN            NaN     4  \n",
       "2  0.003557  0.005122  1.000191  22.782431       0.854221     1  \n",
       "3  0.004139  0.005504  1.000058  24.490690       0.257340     2  \n",
       "4  0.003320  0.003788  1.000139  16.834128       0.620682     1  "
      ]
     },
     "execution_count": 20,
     "metadata": {},
     "output_type": "execute_result"
    }
   ],
   "source": [
    "df[\"error z\"] += 1.0 \n",
    "df.head()"
   ]
  },
  {
   "cell_type": "code",
   "execution_count": 21,
   "metadata": {},
   "outputs": [],
   "source": [
    "df.to_csv(\"/media/gabriel/Data/University/ELTE/Thesis/GLADE/Calculated_Distances_3_samplee.txt\", \n",
    "          sep='\\t', na_rep='null', index=False, header=False)"
   ]
  },
  {
   "cell_type": "code",
   "execution_count": 24,
   "metadata": {},
   "outputs": [
    {
     "data": {
      "text/plain": [
       "0     NaN\n",
       "1     NaN\n",
       "2     NaN\n",
       "3     NaN\n",
       "4     NaN\n",
       "       ..\n",
       "495   NaN\n",
       "496   NaN\n",
       "497   NaN\n",
       "498   NaN\n",
       "499   NaN\n",
       "Name: wiseX, Length: 500, dtype: float64"
      ]
     },
     "execution_count": 24,
     "metadata": {},
     "output_type": "execute_result"
    }
   ],
   "source": [
    "df[\"wiseX\"]"
   ]
  },
  {
   "cell_type": "code",
   "execution_count": 32,
   "metadata": {},
   "outputs": [],
   "source": [
    "with open('/media/gabriel/Data/University/ELTE/Thesis/GLADE/Calculated_Distances_3_sample.txt', newline='') as f1:\n",
    "    reader = csv.reader(f1, delimiter='\\t', quotechar='|')\n",
    "    with open('/media/gabriel/Data/University/ELTE/Thesis/GLADE/Calculated_Distances_3_sample+.txt', 'a', newline='') as f2:\n",
    "        writer = csv.writer(f2, delimiter='\\t', quotechar='|', quoting=csv.QUOTE_MINIMAL)\n",
    "        for row in reader:\n",
    "            if row[9] != 'null':\n",
    "                writer.writerow([row[0], row[1], row[2], row[3], row[4], row[5], row[6], \n",
    "                                 row[7], row[8], str(float(row[9]) + 1.632339609669824e-05), row[10], \n",
    "                                 str(float(row[11]) + 0.07232693778252121), row[12]])\n",
    "            else:\n",
    "                writer.writerow([row[0], row[1], row[2], row[3], row[4], row[5], row[6], \n",
    "                                 row[7], row[8], row[9], row[10], row[11], row[12]])\n",
    "        "
   ]
  },
  {
   "cell_type": "code",
   "execution_count": 12,
   "metadata": {},
   "outputs": [
    {
     "data": {
      "text/plain": [
       "14.181394712755036"
      ]
     },
     "execution_count": 12,
     "metadata": {},
     "output_type": "execute_result"
    }
   ],
   "source": [
    "14.109067774972516 + 0.07232693778252121"
   ]
  },
  {
   "cell_type": "markdown",
   "metadata": {},
   "source": [
    "## Maximum redshift for pv-correction"
   ]
  },
  {
   "cell_type": "code",
   "execution_count": null,
   "metadata": {},
   "outputs": [],
   "source": [
    "from cosmocalc import cosmocalc\n",
    "import numpy as np\n",
    "\n",
    "for z in np.arange(0.104752038, 0.10475204 , 0.000000001):\n",
    "    d = cosmocalc(z , H0=67.66, WM=.3111, WV=.6889)['DL_Mpc']\n",
    "    print(z, d)"
   ]
  },
  {
   "cell_type": "code",
   "execution_count": null,
   "metadata": {},
   "outputs": [],
   "source": [
    "from cosmocalc import cosmocalc\n",
    "\n",
    "max_dist = cosmocalc(0.104752038, H0=67.66, WM=.3111, WV=.6889)['DL_Mpc']\n",
    "\n",
    "print(max_dist)"
   ]
  },
  {
   "cell_type": "markdown",
   "metadata": {},
   "source": [
    "# Comparison SNIa"
   ]
  },
  {
   "cell_type": "code",
   "execution_count": 26,
   "metadata": {},
   "outputs": [],
   "source": [
    "import numpy as np\n",
    "import csv\n",
    "\n",
    "c = 299792.458\n",
    "\n",
    "SNIa = []\n",
    "with open('/mnt/sda4/University/ELTE/Thesis/Data/CF3-SNIa.txt', newline='') as f:\n",
    "    reader = csv.reader(f, delimiter='\\t', quotechar='|')\n",
    "    \n",
    "    for i in range(0, 5):\n",
    "        next(reader)\n",
    "    \n",
    "    for row in reader:\n",
    "        # hhmmss.s -> deg\n",
    "        RA = float(row[4][0:2])*15.0 + float(row[4][2:4])*0.25 + float(row[4][4:8])*(360.0/86400.0)\n",
    "        # ddmmss.s -> deg\n",
    "        dec =  float(row[5][1:3]) + float(row[5][3:5])/60.0 + float(row[5][5:9])/3600.0\n",
    "        if row[5][0] == \"-\":\n",
    "            dec *= -1.0\n",
    "        v = float(row[17])\n",
    "        beta = v/c\n",
    "        z = np.sqrt((1.0 + beta)/(1.0 - beta)) -1.0\n",
    "        \n",
    "        SNIa.append([row[0], 'null', 'null', 'null', 'null', str(RA), str(dec), str(z), 'null', 'null'])\n",
    "        \n",
    "SNIa = np.array(SNIa)\n",
    "\n",
    "np.save('/mnt/sda4/University/ELTE/Thesis/Data/SNIa_r', SNIa, allow_pickle=True)"
   ]
  },
  {
   "cell_type": "code",
   "execution_count": 45,
   "metadata": {},
   "outputs": [],
   "source": [
    "d_SNIa = []\n",
    "\n",
    "with open('/mnt/sda4/University/ELTE/Thesis/Data/CF3-SNIa.txt', newline='') as f:\n",
    "    reader = csv.reader(f, delimiter='\\t', quotechar='|')\n",
    "    \n",
    "    for i in range(0, 5):\n",
    "        next(reader)\n",
    "    \n",
    "    for row in reader:\n",
    "        d_SNIa.append(float(row[2]))\n",
    "        \n",
    "d_Gabu = []\n",
    "e_Gabu = []\n",
    "\n",
    "with open('/mnt/sda4/University/ELTE/Thesis/Data/Calculated_Distances_SNIa.txt', newline='') as f:\n",
    "    reader = csv.reader(f, delimiter='\\t', quotechar='|')\n",
    "    \n",
    "    for row in reader:\n",
    "        if row[10] != 'null':\n",
    "            d_Gabu.append(float(row[10]))\n",
    "            e_Gabu.append(float(row[11]))\n",
    "        else:\n",
    "            d_Gabu.append(-100.0)\n",
    "            e_Gabu.append(0.0)"
   ]
  },
  {
   "cell_type": "code",
   "execution_count": 56,
   "metadata": {},
   "outputs": [
    {
     "data": {
      "image/png": "[encoded data removed]",
      "text/plain": [
       "<Figure size 720x720 with 1 Axes>"
      ]
     },
     "metadata": {
      "needs_background": "light"
     },
     "output_type": "display_data"
    }
   ],
   "source": [
    "import matplotlib.pyplot as plt\n",
    "\n",
    "fig_size = 10\n",
    "\n",
    "fig, ax = plt.subplots(figsize=(fig_size, fig_size))\n",
    "\n",
    "plt.errorbar(d_SNIa, d_Gabu, fmt='o', yerr=e_Gabu)\n",
    "plt.errorbar([0, 500], [0, 500], c='black', lw=1.0)\n",
    "\n",
    "ax.set_xlabel(\"Measured Luminosity Distances (Mpc)\", size='large')\n",
    "ax.set_xlim(0, 500)\n",
    "ax.set_ylabel(\"Calculated Luminosity Distances (Mpc)\", size='large')\n",
    "ax.set_ylim(0, 500)\n",
    "plt.show()"
   ]
  },
  {
   "cell_type": "code",
   "execution_count": 64,
   "metadata": {},
   "outputs": [
    {
     "name": "stdout",
     "output_type": "stream",
     "text": [
      "total: 390\n",
      "yes1: 45\n",
      "yes2: 50\n",
      "yes3: 35\n",
      "no: 258\n",
      "fail: 2\n"
     ]
    }
   ],
   "source": [
    "yes1 = 0\n",
    "yes2 = 0\n",
    "yes3 = 0\n",
    "no = 0\n",
    "fail = 0\n",
    "\n",
    "for i in range(len(d_Gabu)):\n",
    "    if d_Gabu[i] > 0.0:\n",
    "        if ((d_SNIa[i] > (d_Gabu[i] - e_Gabu[i])) and (d_SNIa[i] < (d_Gabu[i] + e_Gabu[i]))):\n",
    "            yes1 += 1\n",
    "        elif ((d_SNIa[i] > (d_Gabu[i] - 2*e_Gabu[i])) and (d_SNIa[i] < (d_Gabu[i] + 2*e_Gabu[i]))):\n",
    "            yes2 += 1\n",
    "        elif ((d_SNIa[i] > (d_Gabu[i] - 3*e_Gabu[i])) and (d_SNIa[i] < (d_Gabu[i] + 3*e_Gabu[i]))):\n",
    "            yes3 += 1\n",
    "        else:\n",
    "            no += 1\n",
    "    else:\n",
    "        fail += 1\n",
    "        \n",
    "print(\"total:\", len(d_Gabu))\n",
    "print(\"yes1:\", yes1)\n",
    "print(\"yes2:\", yes2)\n",
    "print(\"yes3:\", yes3)\n",
    "print(\"no:\", no)\n",
    "print(\"fail:\", fail)"
   ]
  },
  {
   "cell_type": "code",
   "execution_count": null,
   "metadata": {},
   "outputs": [],
   "source": []
  }
 ],
 "metadata": {
  "kernelspec": {
   "display_name": "Python 3",
   "language": "python",
   "name": "python3"
  },
  "language_info": {
   "codemirror_mode": {
    "name": "ipython",
    "version": 3
   },
   "file_extension": ".py",
   "mimetype": "text/x-python",
   "name": "python",
   "nbconvert_exporter": "python",
   "pygments_lexer": "ipython3",
   "version": "3.8.2"
  }
 },
 "nbformat": 4,
 "nbformat_minor": 2
}
